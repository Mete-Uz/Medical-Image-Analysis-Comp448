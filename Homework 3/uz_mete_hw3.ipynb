{
  "nbformat": 4,
  "nbformat_minor": 0,
  "metadata": {
    "colab": {
      "name": "Copy of Untitled0.ipynb",
      "provenance": []
    },
    "kernelspec": {
      "name": "python3",
      "display_name": "Python 3"
    },
    "language_info": {
      "name": "python"
    },
    "widgets": {
      "application/vnd.jupyter.widget-state+json": {
        "a958b787d8924a0e841a5c781f524334": {
          "model_module": "@jupyter-widgets/controls",
          "model_name": "HBoxModel",
          "state": {
            "_view_name": "HBoxView",
            "_dom_classes": [],
            "_model_name": "HBoxModel",
            "_view_module": "@jupyter-widgets/controls",
            "_model_module_version": "1.5.0",
            "_view_count": null,
            "_view_module_version": "1.5.0",
            "box_style": "",
            "layout": "IPY_MODEL_4316e6e396cd4aeaa273290653e61cad",
            "_model_module": "@jupyter-widgets/controls",
            "children": [
              "IPY_MODEL_0ec2168ff2754db8b455850f4d5362f9",
              "IPY_MODEL_13bc172ebf1f4facb2798d723a8920bc"
            ]
          }
        },
        "4316e6e396cd4aeaa273290653e61cad": {
          "model_module": "@jupyter-widgets/base",
          "model_name": "LayoutModel",
          "state": {
            "_view_name": "LayoutView",
            "grid_template_rows": null,
            "right": null,
            "justify_content": null,
            "_view_module": "@jupyter-widgets/base",
            "overflow": null,
            "_model_module_version": "1.2.0",
            "_view_count": null,
            "flex_flow": null,
            "width": null,
            "min_width": null,
            "border": null,
            "align_items": null,
            "bottom": null,
            "_model_module": "@jupyter-widgets/base",
            "top": null,
            "grid_column": null,
            "overflow_y": null,
            "overflow_x": null,
            "grid_auto_flow": null,
            "grid_area": null,
            "grid_template_columns": null,
            "flex": null,
            "_model_name": "LayoutModel",
            "justify_items": null,
            "grid_row": null,
            "max_height": null,
            "align_content": null,
            "visibility": null,
            "align_self": null,
            "height": null,
            "min_height": null,
            "padding": null,
            "grid_auto_rows": null,
            "grid_gap": null,
            "max_width": null,
            "order": null,
            "_view_module_version": "1.2.0",
            "grid_template_areas": null,
            "object_position": null,
            "object_fit": null,
            "grid_auto_columns": null,
            "margin": null,
            "display": null,
            "left": null
          }
        },
        "0ec2168ff2754db8b455850f4d5362f9": {
          "model_module": "@jupyter-widgets/controls",
          "model_name": "FloatProgressModel",
          "state": {
            "_view_name": "ProgressView",
            "style": "IPY_MODEL_d646f63b50e6463fad4c5fad95fcf24b",
            "_dom_classes": [],
            "description": "100%",
            "_model_name": "FloatProgressModel",
            "bar_style": "success",
            "max": 244418560,
            "_view_module": "@jupyter-widgets/controls",
            "_model_module_version": "1.5.0",
            "value": 244418560,
            "_view_count": null,
            "_view_module_version": "1.5.0",
            "orientation": "horizontal",
            "min": 0,
            "description_tooltip": null,
            "_model_module": "@jupyter-widgets/controls",
            "layout": "IPY_MODEL_b54d690a75934074afccd33bf64bc11e"
          }
        },
        "13bc172ebf1f4facb2798d723a8920bc": {
          "model_module": "@jupyter-widgets/controls",
          "model_name": "HTMLModel",
          "state": {
            "_view_name": "HTMLView",
            "style": "IPY_MODEL_025269adfdd24749902f25e4e6248dcb",
            "_dom_classes": [],
            "description": "",
            "_model_name": "HTMLModel",
            "placeholder": "​",
            "_view_module": "@jupyter-widgets/controls",
            "_model_module_version": "1.5.0",
            "value": " 233M/233M [01:00&lt;00:00, 4.01MB/s]",
            "_view_count": null,
            "_view_module_version": "1.5.0",
            "description_tooltip": null,
            "_model_module": "@jupyter-widgets/controls",
            "layout": "IPY_MODEL_f1416b402d754e7099752491e295554c"
          }
        },
        "d646f63b50e6463fad4c5fad95fcf24b": {
          "model_module": "@jupyter-widgets/controls",
          "model_name": "ProgressStyleModel",
          "state": {
            "_view_name": "StyleView",
            "_model_name": "ProgressStyleModel",
            "description_width": "initial",
            "_view_module": "@jupyter-widgets/base",
            "_model_module_version": "1.5.0",
            "_view_count": null,
            "_view_module_version": "1.2.0",
            "bar_color": null,
            "_model_module": "@jupyter-widgets/controls"
          }
        },
        "b54d690a75934074afccd33bf64bc11e": {
          "model_module": "@jupyter-widgets/base",
          "model_name": "LayoutModel",
          "state": {
            "_view_name": "LayoutView",
            "grid_template_rows": null,
            "right": null,
            "justify_content": null,
            "_view_module": "@jupyter-widgets/base",
            "overflow": null,
            "_model_module_version": "1.2.0",
            "_view_count": null,
            "flex_flow": null,
            "width": null,
            "min_width": null,
            "border": null,
            "align_items": null,
            "bottom": null,
            "_model_module": "@jupyter-widgets/base",
            "top": null,
            "grid_column": null,
            "overflow_y": null,
            "overflow_x": null,
            "grid_auto_flow": null,
            "grid_area": null,
            "grid_template_columns": null,
            "flex": null,
            "_model_name": "LayoutModel",
            "justify_items": null,
            "grid_row": null,
            "max_height": null,
            "align_content": null,
            "visibility": null,
            "align_self": null,
            "height": null,
            "min_height": null,
            "padding": null,
            "grid_auto_rows": null,
            "grid_gap": null,
            "max_width": null,
            "order": null,
            "_view_module_version": "1.2.0",
            "grid_template_areas": null,
            "object_position": null,
            "object_fit": null,
            "grid_auto_columns": null,
            "margin": null,
            "display": null,
            "left": null
          }
        },
        "025269adfdd24749902f25e4e6248dcb": {
          "model_module": "@jupyter-widgets/controls",
          "model_name": "DescriptionStyleModel",
          "state": {
            "_view_name": "StyleView",
            "_model_name": "DescriptionStyleModel",
            "description_width": "",
            "_view_module": "@jupyter-widgets/base",
            "_model_module_version": "1.5.0",
            "_view_count": null,
            "_view_module_version": "1.2.0",
            "_model_module": "@jupyter-widgets/controls"
          }
        },
        "f1416b402d754e7099752491e295554c": {
          "model_module": "@jupyter-widgets/base",
          "model_name": "LayoutModel",
          "state": {
            "_view_name": "LayoutView",
            "grid_template_rows": null,
            "right": null,
            "justify_content": null,
            "_view_module": "@jupyter-widgets/base",
            "overflow": null,
            "_model_module_version": "1.2.0",
            "_view_count": null,
            "flex_flow": null,
            "width": null,
            "min_width": null,
            "border": null,
            "align_items": null,
            "bottom": null,
            "_model_module": "@jupyter-widgets/base",
            "top": null,
            "grid_column": null,
            "overflow_y": null,
            "overflow_x": null,
            "grid_auto_flow": null,
            "grid_area": null,
            "grid_template_columns": null,
            "flex": null,
            "_model_name": "LayoutModel",
            "justify_items": null,
            "grid_row": null,
            "max_height": null,
            "align_content": null,
            "visibility": null,
            "align_self": null,
            "height": null,
            "min_height": null,
            "padding": null,
            "grid_auto_rows": null,
            "grid_gap": null,
            "max_width": null,
            "order": null,
            "_view_module_version": "1.2.0",
            "grid_template_areas": null,
            "object_position": null,
            "object_fit": null,
            "grid_auto_columns": null,
            "margin": null,
            "display": null,
            "left": null
          }
        }
      }
    },
    "accelerator": "GPU"
  },
  "cells": [
    {
      "cell_type": "code",
      "metadata": {
        "id": "yDkxFj9Lo-j3",
        "colab": {
          "base_uri": "https://localhost:8080/"
        },
        "outputId": "71b3e31c-19bb-41c0-bb9e-f243c88f4bd3"
      },
      "source": [
        "import torch\n",
        "import torch.nn as nn\n",
        "import numpy as np\n",
        "import os\n",
        "import matplotlib.pyplot as plt\n",
        "import torchvision.models as models\n",
        "from torchvision import datasets, transforms\n",
        "import torch.optim as optim\n",
        "from torch.optim import lr_scheduler\n",
        "from google.colab import drive\n",
        "import copy\n",
        "drive.mount('/content/gdrive')"
      ],
      "execution_count": 1,
      "outputs": [
        {
          "output_type": "stream",
          "text": [
            "Mounted at /content/gdrive\n"
          ],
          "name": "stdout"
        }
      ]
    },
    {
      "cell_type": "code",
      "metadata": {
        "colab": {
          "base_uri": "https://localhost:8080/",
          "height": 83,
          "referenced_widgets": [
            "a958b787d8924a0e841a5c781f524334",
            "4316e6e396cd4aeaa273290653e61cad",
            "0ec2168ff2754db8b455850f4d5362f9",
            "13bc172ebf1f4facb2798d723a8920bc",
            "d646f63b50e6463fad4c5fad95fcf24b",
            "b54d690a75934074afccd33bf64bc11e",
            "025269adfdd24749902f25e4e6248dcb",
            "f1416b402d754e7099752491e295554c"
          ]
        },
        "id": "YRliyFquoxur",
        "outputId": "561035d5-6aad-48b1-d848-f43140fa1a69"
      },
      "source": [
        "device = torch.device(\"cuda:0\" if torch.cuda.is_available() else \"cpu\")\n",
        "model_conv = models.alexnet(pretrained = True)"
      ],
      "execution_count": 2,
      "outputs": [
        {
          "output_type": "stream",
          "text": [
            "Downloading: \"https://download.pytorch.org/models/alexnet-owt-4df8aa71.pth\" to /root/.cache/torch/hub/checkpoints/alexnet-owt-4df8aa71.pth\n"
          ],
          "name": "stderr"
        },
        {
          "output_type": "display_data",
          "data": {
            "application/vnd.jupyter.widget-view+json": {
              "model_id": "a958b787d8924a0e841a5c781f524334",
              "version_minor": 0,
              "version_major": 2
            },
            "text/plain": [
              "HBox(children=(FloatProgress(value=0.0, max=244418560.0), HTML(value='')))"
            ]
          },
          "metadata": {
            "tags": []
          }
        },
        {
          "output_type": "stream",
          "text": [
            "\n"
          ],
          "name": "stdout"
        }
      ]
    },
    {
      "cell_type": "code",
      "metadata": {
        "id": "FJ8YU4HjqCsV"
      },
      "source": [
        "for param in model_conv.parameters():\n",
        "  param.requires_grad = False\n",
        "\n",
        "model_conv.classifier[4] = nn.Linear(4096,1024)\n",
        "model_conv.classifier[6] = nn.Linear(1024,3)\n",
        "model_conv = model_conv.to(device)\n",
        "\n",
        "criterion = nn.CrossEntropyLoss()\n",
        "optimizer_conv = optim.SGD(model_conv.parameters(), lr=0.01, momentum=0.9)\n",
        "\n",
        "exp_lr_scheduler = lr_scheduler.StepLR(optimizer_conv, step_size=30, gamma=0.1) "
      ],
      "execution_count": 3,
      "outputs": []
    },
    {
      "cell_type": "code",
      "metadata": {
        "colab": {
          "base_uri": "https://localhost:8080/"
        },
        "id": "jTIoPiDs2AVK",
        "outputId": "b8a7cd0d-92ef-48d2-e6c9-1c8c14d42b4a"
      },
      "source": [
        "\n",
        "data_dir = '/content/gdrive/My Drive/main_dir' \n",
        "data_transforms = {\n",
        " 'train': transforms.Compose([\n",
        " # put the input to Tensor format in order to use torch\n",
        "    transforms.ToTensor() \n",
        " #transforms.Normalize( ?? ) \n",
        " ]),\n",
        " 'valid': transforms.Compose([\n",
        "    transforms.ToTensor()\n",
        "   ]),                        \n",
        " 'test': transforms.Compose([\n",
        "    transforms.ToTensor()                       \n",
        "   ])\n",
        "}\n",
        "image_datasets = {x: datasets.ImageFolder(os.path.join(data_dir, x),\n",
        " data_transforms[x]) for x in ['train', 'valid', 'test']}\n",
        "\n",
        "loader = {x: torch.utils.data.DataLoader(image_datasets[x], batch_size = 1, shuffle = True, num_workers = 4) for x in ['train', 'test', 'valid']}\n",
        "#loader = torch.utils.data.DataLoader(train_set, batch_size=len(train_set), num_workers=1)\n",
        "#data = next(iter(loader))\n",
        "#data[0].mean(), data[0].std()\n",
        "#data = next(iter(loader))\n",
        "#data[0].mean(), data[0].std()\n",
        "mean = 0.\n",
        "std = 0.\n",
        "mean_t = 0.\n",
        "std_t = 0.\n",
        "mean_v = 0.\n",
        "std_v = 0.\n",
        "for images, _ in loader['train']:\n",
        "    batch_samples = images.size(0) # batch size (the last batch can have smaller size!)\n",
        "    images = images.view(batch_samples, images.size(1), -1)\n",
        "    mean += images.mean(2).sum(0)\n",
        "    std += images.std(2).sum(0)\n",
        "\n",
        "for images, _ in loader['test']:\n",
        "    batch_samples = images.size(0) # batch size (the last batch can have smaller size!)\n",
        "    images = images.view(batch_samples, images.size(1), -1)\n",
        "    mean_t += images.mean(2).sum(0)\n",
        "    std_t += images.std(2).sum(0)\n",
        "\n",
        "for images, _ in loader['valid']:\n",
        "    batch_samples = images.size(0) # batch size (the last batch can have smaller size!)\n",
        "    images = images.view(batch_samples, images.size(1), -1)\n",
        "    mean_v += images.mean(2).sum(0)\n",
        "    std_v += images.std(2).sum(0)\n",
        "\n",
        "mean /= len(loader['train'].dataset)\n",
        "mean_t /= len(loader['test'].dataset)\n",
        "mean_v /= len(loader['valid'].dataset)\n",
        "std /= len(loader['train'].dataset)\n",
        "std_t /= len(loader['test'].dataset)\n",
        "std_v /= len(loader['valid'].dataset)\n",
        "\n",
        "data_transforms = {\n",
        " 'train': transforms.Compose([\n",
        " # put the input to Tensor format in order to use torch\n",
        "    transforms.ToTensor(),\n",
        "    #transforms.Normalize(mean, std) uncomment 3 lines with normalization to use normalization \n",
        " ]),\n",
        " 'valid': transforms.Compose([\n",
        "    transforms.ToTensor(),\n",
        "    #transforms.Normalize(mean_v, std_v)\n",
        "   ]),                        \n",
        " 'test': transforms.Compose([\n",
        "    transforms.ToTensor(),\n",
        "    #transforms.Normalize(mean_t, std_t)                      \n",
        "   ])\n",
        "}\n",
        "image_datasets = {x: datasets.ImageFolder(os.path.join(data_dir, x),\n",
        " data_transforms[x]) for x in ['train', 'valid', 'test']}\n",
        "\n",
        "mean, mean_t, mean_v, std, std_t, std_v\n",
        "image_datasets"
      ],
      "execution_count": 11,
      "outputs": [
        {
          "output_type": "stream",
          "text": [
            "/usr/local/lib/python3.7/dist-packages/torch/utils/data/dataloader.py:477: UserWarning: This DataLoader will create 4 worker processes in total. Our suggested max number of worker in current system is 2, which is smaller than what this DataLoader is going to create. Please be aware that excessive worker creation might get DataLoader running slow or even freeze, lower the worker number to avoid potential slowness/freeze if necessary.\n",
            "  cpuset_checked))\n"
          ],
          "name": "stderr"
        },
        {
          "output_type": "execute_result",
          "data": {
            "text/plain": [
              "{'test': Dataset ImageFolder\n",
              "     Number of datapoints: 144\n",
              "     Root location: /content/gdrive/My Drive/main_dir/test\n",
              "     StandardTransform\n",
              " Transform: Compose(\n",
              "                ToTensor()\n",
              "            ), 'train': Dataset ImageFolder\n",
              "     Number of datapoints: 150\n",
              "     Root location: /content/gdrive/My Drive/main_dir/train\n",
              "     StandardTransform\n",
              " Transform: Compose(\n",
              "                ToTensor()\n",
              "            ), 'valid': Dataset ImageFolder\n",
              "     Number of datapoints: 36\n",
              "     Root location: /content/gdrive/My Drive/main_dir/valid\n",
              "     StandardTransform\n",
              " Transform: Compose(\n",
              "                ToTensor()\n",
              "            )}"
            ]
          },
          "metadata": {
            "tags": []
          },
          "execution_count": 11
        }
      ]
    },
    {
      "cell_type": "code",
      "metadata": {
        "colab": {
          "base_uri": "https://localhost:8080/"
        },
        "id": "huoZfYpT3pSE",
        "outputId": "27be5031-0fcc-4f36-924a-a24e53df4284"
      },
      "source": [
        "image_datasets"
      ],
      "execution_count": 12,
      "outputs": [
        {
          "output_type": "execute_result",
          "data": {
            "text/plain": [
              "{'test': Dataset ImageFolder\n",
              "     Number of datapoints: 144\n",
              "     Root location: /content/gdrive/My Drive/main_dir/test\n",
              "     StandardTransform\n",
              " Transform: Compose(\n",
              "                ToTensor()\n",
              "            ), 'train': Dataset ImageFolder\n",
              "     Number of datapoints: 150\n",
              "     Root location: /content/gdrive/My Drive/main_dir/train\n",
              "     StandardTransform\n",
              " Transform: Compose(\n",
              "                ToTensor()\n",
              "            ), 'valid': Dataset ImageFolder\n",
              "     Number of datapoints: 36\n",
              "     Root location: /content/gdrive/My Drive/main_dir/valid\n",
              "     StandardTransform\n",
              " Transform: Compose(\n",
              "                ToTensor()\n",
              "            )}"
            ]
          },
          "metadata": {
            "tags": []
          },
          "execution_count": 12
        }
      ]
    },
    {
      "cell_type": "code",
      "metadata": {
        "id": "CfEqfKcn4COR"
      },
      "source": [
        "def train_model(image_datasets, model, criterion, optimizer, scheduler, num_epochs):\n",
        "  dataloaders = {x: torch.utils.data.DataLoader(image_datasets[x], batch_size = 4, shuffle = True, num_workers = 4) for x in ['train', 'valid']}\n",
        "  best_model_wts = copy.deepcopy(model.state_dict())\n",
        "  best_no_corrects = 0\n",
        "\n",
        "  for epoch in range(num_epochs):\n",
        "    print(epoch)\n",
        " # Set the model to the training mode for updating the weights using \n",
        " # the first portion of training images\n",
        "    model.train() \n",
        "    for inputs, labels in dataloaders['train']: # iterate over data\n",
        "      inputs = inputs.to(device)\n",
        "      labels = labels.to(device)\n",
        "      optimizer.zero_grad()\n",
        "      with torch.set_grad_enabled(True):\n",
        "        outputs = model(inputs)\n",
        "        _, preds = torch.max(outputs, 1)\n",
        "        loss = criterion(outputs, labels)\n",
        "        loss.backward()\n",
        "        optimizer.step()\n",
        " # Set the model to the evaluation mode for selecting the best network \n",
        " # based on the number of correctly classified validation images\n",
        "    model.eval()\n",
        "    no_corrects = 0\n",
        "    for inputs, labels in dataloaders['valid']:\n",
        "      inputs = inputs.to(device)\n",
        "      labels = labels.to(device)\n",
        "      with torch.set_grad_enabled(False):\n",
        "        outputs = model(inputs)\n",
        "        _, preds = torch.max(outputs, 1)\n",
        "        no_corrects += torch.sum(preds == labels.data)\n",
        "    if no_corrects > best_no_corrects:\n",
        "      best_no_corrects = no_corrects\n",
        "      best_model_wts = copy.deepcopy(model.state_dict())\n",
        "    scheduler.step()\n",
        " # Load the weights of the best network\n",
        "  model.load_state_dict(best_model_wts)\n",
        "  return model"
      ],
      "execution_count": 13,
      "outputs": []
    },
    {
      "cell_type": "code",
      "metadata": {
        "colab": {
          "base_uri": "https://localhost:8080/"
        },
        "id": "Ff4iDOuS6Pxi",
        "outputId": "85d2437a-c41f-4094-c21b-72cda8404eaa"
      },
      "source": [
        "model1 = train_model(image_datasets, model_conv, criterion, optimizer_conv, exp_lr_scheduler, 100)"
      ],
      "execution_count": 14,
      "outputs": [
        {
          "output_type": "stream",
          "text": [
            "0\n"
          ],
          "name": "stdout"
        },
        {
          "output_type": "stream",
          "text": [
            "/usr/local/lib/python3.7/dist-packages/torch/utils/data/dataloader.py:477: UserWarning: This DataLoader will create 4 worker processes in total. Our suggested max number of worker in current system is 2, which is smaller than what this DataLoader is going to create. Please be aware that excessive worker creation might get DataLoader running slow or even freeze, lower the worker number to avoid potential slowness/freeze if necessary.\n",
            "  cpuset_checked))\n"
          ],
          "name": "stderr"
        },
        {
          "output_type": "stream",
          "text": [
            "1\n",
            "2\n",
            "3\n",
            "4\n",
            "5\n",
            "6\n",
            "7\n",
            "8\n",
            "9\n",
            "10\n",
            "11\n",
            "12\n",
            "13\n",
            "14\n",
            "15\n",
            "16\n",
            "17\n",
            "18\n",
            "19\n",
            "20\n",
            "21\n",
            "22\n",
            "23\n",
            "24\n",
            "25\n",
            "26\n",
            "27\n",
            "28\n",
            "29\n",
            "30\n",
            "31\n",
            "32\n",
            "33\n",
            "34\n",
            "35\n",
            "36\n",
            "37\n",
            "38\n",
            "39\n",
            "40\n",
            "41\n",
            "42\n",
            "43\n",
            "44\n",
            "45\n",
            "46\n",
            "47\n",
            "48\n",
            "49\n",
            "50\n",
            "51\n",
            "52\n",
            "53\n",
            "54\n",
            "55\n",
            "56\n",
            "57\n",
            "58\n",
            "59\n",
            "60\n",
            "61\n",
            "62\n",
            "63\n",
            "64\n",
            "65\n",
            "66\n",
            "67\n",
            "68\n",
            "69\n",
            "70\n",
            "71\n",
            "72\n",
            "73\n",
            "74\n",
            "75\n",
            "76\n",
            "77\n",
            "78\n",
            "79\n",
            "80\n",
            "81\n",
            "82\n",
            "83\n",
            "84\n",
            "85\n",
            "86\n",
            "87\n",
            "88\n",
            "89\n",
            "90\n",
            "91\n",
            "92\n",
            "93\n",
            "94\n",
            "95\n",
            "96\n",
            "97\n",
            "98\n",
            "99\n"
          ],
          "name": "stdout"
        }
      ]
    },
    {
      "cell_type": "code",
      "metadata": {
        "colab": {
          "base_uri": "https://localhost:8080/"
        },
        "id": "12Y86OCtCfd0",
        "outputId": "7f1965c9-9409-43a7-fbd1-5cad8a82114c"
      },
      "source": [
        "model1"
      ],
      "execution_count": 8,
      "outputs": [
        {
          "output_type": "execute_result",
          "data": {
            "text/plain": [
              "AlexNet(\n",
              "  (features): Sequential(\n",
              "    (0): Conv2d(3, 64, kernel_size=(11, 11), stride=(4, 4), padding=(2, 2))\n",
              "    (1): ReLU(inplace=True)\n",
              "    (2): MaxPool2d(kernel_size=3, stride=2, padding=0, dilation=1, ceil_mode=False)\n",
              "    (3): Conv2d(64, 192, kernel_size=(5, 5), stride=(1, 1), padding=(2, 2))\n",
              "    (4): ReLU(inplace=True)\n",
              "    (5): MaxPool2d(kernel_size=3, stride=2, padding=0, dilation=1, ceil_mode=False)\n",
              "    (6): Conv2d(192, 384, kernel_size=(3, 3), stride=(1, 1), padding=(1, 1))\n",
              "    (7): ReLU(inplace=True)\n",
              "    (8): Conv2d(384, 256, kernel_size=(3, 3), stride=(1, 1), padding=(1, 1))\n",
              "    (9): ReLU(inplace=True)\n",
              "    (10): Conv2d(256, 256, kernel_size=(3, 3), stride=(1, 1), padding=(1, 1))\n",
              "    (11): ReLU(inplace=True)\n",
              "    (12): MaxPool2d(kernel_size=3, stride=2, padding=0, dilation=1, ceil_mode=False)\n",
              "  )\n",
              "  (avgpool): AdaptiveAvgPool2d(output_size=(6, 6))\n",
              "  (classifier): Sequential(\n",
              "    (0): Dropout(p=0.5, inplace=False)\n",
              "    (1): Linear(in_features=9216, out_features=4096, bias=True)\n",
              "    (2): ReLU(inplace=True)\n",
              "    (3): Dropout(p=0.5, inplace=False)\n",
              "    (4): Linear(in_features=4096, out_features=1024, bias=True)\n",
              "    (5): ReLU(inplace=True)\n",
              "    (6): Linear(in_features=1024, out_features=3, bias=True)\n",
              "  )\n",
              ")"
            ]
          },
          "metadata": {
            "tags": []
          },
          "execution_count": 8
        }
      ]
    },
    {
      "cell_type": "code",
      "metadata": {
        "colab": {
          "base_uri": "https://localhost:8080/"
        },
        "id": "4smILecJBoA4",
        "outputId": "cd4589a5-df0b-4d33-bc0e-c65bc96b3583"
      },
      "source": [
        "dataloaders = {x: torch.utils.data.DataLoader(image_datasets[x], batch_size = 1, shuffle = True, num_workers = 4) for x in ['train', 'test', 'valid']}\n",
        "\n",
        "correct_train = [0, 0, 0]\n",
        "incorrect_train = [0, 0, 0]\n",
        "\n",
        "for inputs, labels in dataloaders['train']:\n",
        "  inputs = inputs.to(device)\n",
        "  labels = labels.to(device)\n",
        "  with torch.set_grad_enabled(False):\n",
        "    outputs = model1(inputs)\n",
        "    _, preds = torch.max(outputs, 1)\n",
        "    if preds == labels.data:\n",
        "      correct_train[preds[0]]+=1\n",
        "    else:\n",
        "      incorrect_train[preds[0]]+=1\n",
        "\n",
        "correct_test = [0, 0, 0]\n",
        "incorrect_test = [0, 0, 0]\n",
        "\n",
        "for inputs, labels in dataloaders['test']:\n",
        "  inputs = inputs.to(device)\n",
        "  labels = labels.to(device)\n",
        "  with torch.set_grad_enabled(False):\n",
        "    outputs = model1(inputs)\n",
        "    _, preds = torch.max(outputs, 1)\n",
        "    if preds == labels.data:\n",
        "      correct_test[preds[0]]+=1\n",
        "    else:\n",
        "      incorrect_test[preds[0]]+=1\n",
        "\n",
        "correct_valid = [0, 0, 0]\n",
        "incorrect_valid = [0, 0, 0]\n",
        "\n",
        "for inputs, labels in dataloaders['valid']:\n",
        "  inputs = inputs.to(device)\n",
        "  labels = labels.to(device)\n",
        "  with torch.set_grad_enabled(False):\n",
        "    outputs = model1(inputs)\n",
        "    _, preds = torch.max(outputs, 1)\n",
        "    if preds == labels.data:\n",
        "      correct_valid[preds[0]]+=1\n",
        "    else:\n",
        "      incorrect_valid[preds[0]]+=1\n",
        "\n"
      ],
      "execution_count": 15,
      "outputs": [
        {
          "output_type": "stream",
          "text": [
            "/usr/local/lib/python3.7/dist-packages/torch/utils/data/dataloader.py:477: UserWarning: This DataLoader will create 4 worker processes in total. Our suggested max number of worker in current system is 2, which is smaller than what this DataLoader is going to create. Please be aware that excessive worker creation might get DataLoader running slow or even freeze, lower the worker number to avoid potential slowness/freeze if necessary.\n",
            "  cpuset_checked))\n"
          ],
          "name": "stderr"
        }
      ]
    },
    {
      "cell_type": "code",
      "metadata": {
        "colab": {
          "base_uri": "https://localhost:8080/"
        },
        "id": "1iLAQmHEIaMU",
        "outputId": "9897f9a6-5a35-46ed-cc9b-f1c52013dd1e"
      },
      "source": [
        "correct_train, incorrect_train, correct_test, incorrect_test, correct_valid, incorrect_valid\n",
        "acc_train = [0, 0 ,0]\n",
        "acc_test = [0, 0 ,0]\n",
        "acc_valid = [0, 0 ,0]\n",
        "for i in range(3):\n",
        "  acc_train[i] = correct_train[i] / (correct_train[i] + incorrect_train[i])\n",
        "  acc_test[i] = correct_test[i] / (correct_test[i] + incorrect_test[i])\n",
        "  acc_valid[i] = correct_valid[i] / (correct_valid[i] + incorrect_valid[i])\n",
        "acc_train, acc_test, acc_valid"
      ],
      "execution_count": 16,
      "outputs": [
        {
          "output_type": "execute_result",
          "data": {
            "text/plain": [
              "([0.7391304347826086, 0.7701149425287356, 0.9411764705882353],\n",
              " [0.7872340425531915, 0.7297297297297297, 0.8695652173913043],\n",
              " [0.6153846153846154, 0.8095238095238095, 1.0])"
            ]
          },
          "metadata": {
            "tags": []
          },
          "execution_count": 16
        }
      ]
    }
  ]
}